{
 "cells": [
  {
   "cell_type": "code",
   "execution_count": 11,
   "id": "bae81164-5701-4029-bfbc-bea1afe1d81a",
   "metadata": {},
   "outputs": [],
   "source": [
    "import yaml\n",
    "\n",
    "dict_file = [{'data_dir': '../data'},\n",
    "             {'subtask':{'isEarly' : 0, 'atDischarge':1, 'atAdmit':0}},\n",
    "             {'wt_forrolling':{'erwt_for_rolling':{12:1, 6:0, 2:0}, 'dischwt_for_rolling': {24:1, 48:0}}}, \n",
    "            {'cat_encoding':{'le':1, 'woe':0, 'oh':0}}, \n",
    "            {'outlier_heal':{'Advanced':0, 'MAD':0, 'eif':1}}, \n",
    "            {'imp_type':{'mean':1, 'median':0,'mice':0 }}, \n",
    "            {'model':{'XGB':1, 'Logisticregression':1, 'MLP':1}}, \n",
    "            {'target':{'30':1, '7':1, 'ntw':0}}, \n",
    "            {'measure':{'f1_score':1, 'recall':0, 'accuracy':0 }},\n",
    "            {'GPU':1}, \n",
    "            {'CV':{5:1, 10:0}}]\n",
    "\n",
    "with open(r'config.yml', 'w') as file:\n",
    "    documents = yaml.dump(dict_file, file)"
   ]
  },
  {
   "cell_type": "code",
   "execution_count": 12,
   "id": "383ccb2c-77ad-4dc7-b991-c443d82943a4",
   "metadata": {},
   "outputs": [
    {
     "data": {
      "text/plain": [
       "[{'data_dir': '../data'},\n",
       " {'subtask': {'atAdmit': 0, 'atDischarge': 1, 'isEarly': 0}},\n",
       " {'wt_forrolling': {'dischwt_for_rolling': {24: 1, 48: 0},\n",
       "   'erwt_for_rolling': {2: 0, 6: 0, 12: 1}}},\n",
       " {'cat_encoding': {'le': 1, 'oh': 0, 'woe': 0}},\n",
       " {'outlier_heal': {'Advanced': 0, 'MAD': 0, 'eif': 1}},\n",
       " {'imp_type': {'mean': 1, 'median': 0, 'mice': 0}},\n",
       " {'model': {'Logisticregression': 1, 'MLP': 1, 'XGB': 1}},\n",
       " {'target': {'30': 1, '7': 1, 'ntw': 0}},\n",
       " {'measure': {'accuracy': 0, 'f1_score': 1, 'recall': 0}},\n",
       " {'GPU': 1},\n",
       " {'CV': {5: 1, 10: 0}}]"
      ]
     },
     "execution_count": 12,
     "metadata": {},
     "output_type": "execute_result"
    }
   ],
   "source": [
    "   \n",
    "config = yaml.safe_load(open(\"config.yml\"))\n",
    "config"
   ]
  },
  {
   "cell_type": "code",
   "execution_count": 13,
   "id": "adf642ff-1efe-4f34-bd2c-be1d2958f46f",
   "metadata": {},
   "outputs": [
    {
     "data": {
      "text/plain": [
       "1"
      ]
     },
     "execution_count": 13,
     "metadata": {},
     "output_type": "execute_result"
    }
   ],
   "source": [
    "config[4]['outlier_heal']['eif']"
   ]
  },
  {
   "cell_type": "code",
   "execution_count": 14,
   "id": "31d4b4b3-bca5-40a3-9545-81c5ee72b59e",
   "metadata": {},
   "outputs": [
    {
     "data": {
      "text/plain": [
       "1"
      ]
     },
     "execution_count": 14,
     "metadata": {},
     "output_type": "execute_result"
    }
   ],
   "source": [
    "config[1]['subtask']['atDischarge']"
   ]
  },
  {
   "cell_type": "code",
   "execution_count": 15,
   "id": "18a4fef8-f55f-4055-bc72-d92af234bda7",
   "metadata": {},
   "outputs": [
    {
     "data": {
      "text/plain": [
       "'../data'"
      ]
     },
     "execution_count": 15,
     "metadata": {},
     "output_type": "execute_result"
    }
   ],
   "source": [
    "config[0]['data_dir']"
   ]
  },
  {
   "cell_type": "code",
   "execution_count": 16,
   "id": "79077866-1471-4860-9751-f0bd77932a49",
   "metadata": {},
   "outputs": [
    {
     "data": {
      "text/plain": [
       "1"
      ]
     },
     "execution_count": 16,
     "metadata": {},
     "output_type": "execute_result"
    }
   ],
   "source": [
    "config[3]['cat_encoding']['le']"
   ]
  },
  {
   "cell_type": "code",
   "execution_count": 17,
   "id": "a5b453eb-f261-4c8e-b8a8-e0579cc68133",
   "metadata": {},
   "outputs": [
    {
     "data": {
      "text/plain": [
       "1"
      ]
     },
     "execution_count": 17,
     "metadata": {},
     "output_type": "execute_result"
    }
   ],
   "source": [
    "config[10]['CV'][5]"
   ]
  },
  {
   "cell_type": "code",
   "execution_count": null,
   "id": "bcd9715a-f697-40e7-bd02-868aee8d86cf",
   "metadata": {},
   "outputs": [],
   "source": []
  }
 ],
 "metadata": {
  "kernelspec": {
   "display_name": "py38_default",
   "language": "python",
   "name": "conda-env-py38_default-py"
  },
  "language_info": {
   "codemirror_mode": {
    "name": "ipython",
    "version": 3
   },
   "file_extension": ".py",
   "mimetype": "text/x-python",
   "name": "python",
   "nbconvert_exporter": "python",
   "pygments_lexer": "ipython3",
   "version": "3.8.10"
  }
 },
 "nbformat": 4,
 "nbformat_minor": 5
}
